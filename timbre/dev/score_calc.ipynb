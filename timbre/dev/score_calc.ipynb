{
 "cells": [
  {
   "cell_type": "code",
   "execution_count": 1,
   "metadata": {},
   "outputs": [],
   "source": [
    "import numpy as np\n",
    "import json\n",
    "import pandas as pd"
   ]
  },
  {
   "cell_type": "code",
   "execution_count": 2,
   "metadata": {},
   "outputs": [],
   "source": [
    "# load json files we fetched\n",
    "with open('recent_played.json', 'r') as file:\n",
    "    recent_played = json.load(file)\n",
    "    \n",
    "with open('top_songs.json', 'r') as file:\n",
    "    top_songs = json.load(file)\n",
    "    \n",
    "with open('top_artists.json', 'r') as file:\n",
    "    top_artists = json.load(file)"
   ]
  },
  {
   "cell_type": "code",
   "execution_count": 3,
   "metadata": {},
   "outputs": [],
   "source": [
    "# feature the song ids for each features\n",
    "recent_song_ids = []\n",
    "for item in recent_played['items']:\n",
    "    recent_song_ids.append(item['track']['id'])\n",
    "    \n",
    "top_song_ids = []\n",
    "for item in top_songs['items']:\n",
    "    top_song_ids.append(item['id'])\n",
    "\n",
    "# need to use these artist ids to fetch their top 5 songs\n",
    "# haven't done this part yet\n",
    "top_artist_ids = []\n",
    "for item in top_artists['items']:\n",
    "    top_artist_ids.append(item['id'])"
   ]
  },
  {
   "cell_type": "code",
   "execution_count": 4,
   "metadata": {},
   "outputs": [],
   "source": [
    "# convert a list storing the song_ids into a string \n",
    "# ready for requesting from Spotify API\n",
    "def convert_song_to_str(song_ids):\n",
    "    songs_to_fetch = ','.join(song_ids) # songs_to_fetch is will be the variable to plug in"
   ]
  },
  {
   "cell_type": "code",
   "execution_count": 5,
   "metadata": {},
   "outputs": [],
   "source": [
    "# assuming we have a json called song_info.json storing song features \n",
    "# that we get from spotify API after calling for songs_to_fetch\n",
    "with open('song_info.json', 'r') as file:\n",
    "    song_info = json.load(file)"
   ]
  },
  {
   "cell_type": "code",
   "execution_count": 6,
   "metadata": {},
   "outputs": [],
   "source": [
    "# array stores the feature values for the returned songs\n",
    "feature_values = np.zeros((len(song_info['audio_features']), 9), dtype=np.float16)"
   ]
  },
  {
   "cell_type": "code",
   "execution_count": 7,
   "metadata": {},
   "outputs": [],
   "source": [
    "# pull the values feature values and stores for calculation in np.array\n",
    "for i in range(len(song_info['audio_features'])):\n",
    "    feature_values[i][0] = song_info['audio_features'][i]['acousticness']\n",
    "    feature_values[i][1] = song_info['audio_features'][i]['valence']\n",
    "    feature_values[i][2] = song_info['audio_features'][i]['danceability']\n",
    "    feature_values[i][3] = song_info['audio_features'][i]['energy']\n",
    "    feature_values[i][4] = song_info['audio_features'][i]['instrumentalness']\n",
    "    feature_values[i][5] = song_info['audio_features'][i]['speechiness']\n",
    "    feature_values[i][6] = song_info['audio_features'][i]['liveness']\n",
    "    feature_values[i][7] = song_info['audio_features'][i]['loudness']\n",
    "    feature_values[i][8] = song_info['audio_features'][i]['tempo']"
   ]
  },
  {
   "cell_type": "code",
   "execution_count": 8,
   "metadata": {},
   "outputs": [
    {
     "data": {
      "text/plain": [
       "array([[ 2.730e-04,  2.111e-01,  3.660e-01,  9.629e-01,  1.220e-02,\n",
       "         1.420e-01,  1.150e-01, -5.301e+00,  1.371e+02],\n",
       "       [ 2.019e-04,  4.109e-01,  6.021e-01,  9.048e-01,  6.403e-02,\n",
       "         7.751e-02,  1.170e-01, -4.047e+00,  1.280e+02],\n",
       "       [ 2.420e-03,  4.280e-01,  5.850e-01,  8.418e-01,  6.859e-03,\n",
       "         5.560e-02,  8.661e-02, -5.883e+00,  1.182e+02]], dtype=float16)"
      ]
     },
     "execution_count": 8,
     "metadata": {},
     "output_type": "execute_result"
    }
   ],
   "source": [
    "feature_values"
   ]
  }
 ],
 "metadata": {
  "kernelspec": {
   "display_name": "Python 3 (ipykernel)",
   "language": "python",
   "name": "python3"
  },
  "language_info": {
   "codemirror_mode": {
    "name": "ipython",
    "version": 3
   },
   "file_extension": ".py",
   "mimetype": "text/x-python",
   "name": "python",
   "nbconvert_exporter": "python",
   "pygments_lexer": "ipython3",
   "version": "3.8.18"
  }
 },
 "nbformat": 4,
 "nbformat_minor": 4
}
